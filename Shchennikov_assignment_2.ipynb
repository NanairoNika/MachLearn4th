{
  "nbformat": 4,
  "nbformat_minor": 0,
  "metadata": {
    "colab": {
      "name": "Shchennikov_assignment_2.ipynb",
      "provenance": []
    },
    "kernelspec": {
      "name": "python3",
      "display_name": "Python 3"
    }
  },
  "cells": [
    {
      "cell_type": "markdown",
      "metadata": {
        "id": "QJuDJY-pAvhn",
        "colab_type": "text"
      },
      "source": [
        "**1-st Task k-NN < LogReg**\n",
        "Firstly, we have to make a linear dataset for this task.\n",
        "Logistic regression can see a linear boundaries, while k-nearest neighbors can learn non-linear boundaries as well. So to beat it we should make our dataset as linear and as we can."
      ]
    },
    {
      "cell_type": "code",
      "metadata": {
        "id": "jiCcGNpM8kGa",
        "colab_type": "code",
        "colab": {}
      },
      "source": [
        "import numpy as np\n",
        "dataset_size = 200\n",
        "Y1 = np.full(100, 3).reshape(100,1)\n",
        "Y2 = np.full(100, 6).reshape(100,1)\n",
        "X1 = np.arange(100).reshape(100,1)\n",
        "X2 = np.arange(100).reshape(100,1)\n",
        "firstclass = np.concatenate((X1 , Y1), axis = 1)\n",
        "secondclass = np.concatenate((X2 , Y2), axis = 1)\n",
        "X = np.concatenate((firstclass, secondclass), axis = 0)\n",
        "y1 = np.full(100, 0).reshape(100,1)\n",
        "y2 = np.full(100, 1).reshape(100,1)\n",
        "y = np.concatenate((y1, y2), axis = 0)"
      ],
      "execution_count": 0,
      "outputs": []
    },
    {
      "cell_type": "markdown",
      "metadata": {
        "id": "l8j7Oc4rCPCH",
        "colab_type": "text"
      },
      "source": [
        "Let's see what we get"
      ]
    },
    {
      "cell_type": "code",
      "metadata": {
        "id": "--Ro-2tjCN3m",
        "colab_type": "code",
        "colab": {
          "base_uri": "https://localhost:8080/",
          "height": 283
        },
        "outputId": "6b32e832-b8df-49f1-8c24-72c5c8b10d52"
      },
      "source": [
        "import matplotlib.pyplot as plt\n",
        "plt.figure()\n",
        "plt.scatter(X[:, 0], X[:, 1], c = y,)"
      ],
      "execution_count": 2,
      "outputs": [
        {
          "output_type": "execute_result",
          "data": {
            "text/plain": [
              "<matplotlib.collections.PathCollection at 0x7f744ae9bba8>"
            ]
          },
          "metadata": {
            "tags": []
          },
          "execution_count": 2
        },
        {
          "output_type": "display_data",
          "data": {
            "image/png": "[encoded data removed]",
            "text/plain": [
              "<Figure size 432x288 with 1 Axes>"
            ]
          },
          "metadata": {
            "tags": []
          }
        }
      ]
    },
    {
      "cell_type": "code",
      "metadata": {
        "id": "AzyTXjy-2YLD",
        "colab_type": "code",
        "colab": {}
      },
      "source": [
        "from sklearn.model_selection import train_test_split\n",
        "X_train, X_test, y_train, y_test = train_test_split(X, y, test_size=0.2, random_state=179)\n",
        "X_train, X_val, y_train, y_val = train_test_split(X_train, y_train, test_size=0.2, random_state=179)"
      ],
      "execution_count": 0,
      "outputs": []
    },
    {
      "cell_type": "code",
      "metadata": {
        "id": "L6KqqCQ8DLt8",
        "colab_type": "code",
        "colab": {}
      },
      "source": [
        "from sklearn.neighbors import KNeighborsClassifier\n",
        "from sklearn.model_selection import GridSearchCV\n",
        "from sklearn.metrics import accuracy_score\n",
        "neighbours = KNeighborsClassifier(n_neighbors=8)\n",
        "neighbours.fit(X_train, y_train)\n",
        "numb_of_neighbours = np.arange(25)\n",
        "gridparam = dict(n_neighbors = numb_of_neighbours)\n",
        "knn = GridSearchCV(neighbours, gridparam, scoring = 'accuracy')\n",
        "knn.fit(X_val, y_val)\n",
        "neighbours = KNeighborsClassifier(n_neighbors = knn.best_params_['n_neighbors'])\n",
        "neighbours.fit(X_train, y_train)\n",
        "neighbours_test = accuracy_score(y_test, neighbours.predict(X_test))\n",
        "print('accuracy on validation: ', knn.best_score_)"
      ],
      "execution_count": 0,
      "outputs": []
    },
    {
      "cell_type": "code",
      "metadata": {
        "id": "u0w7qvSUJmpZ",
        "colab_type": "code",
        "colab": {}
      },
      "source": [
        "from sklearn.linear_model import LogisticRegression\n",
        "logreg = LogisticRegression(random_state=179, solver = \"liblinear\")\n",
        "logreg.fit(X_train, y_train)\n",
        "reg_str = np.arange(0,10,0.1)\n",
        "gridparam = dict(C = reg_str)\n",
        "lr = GridSearchCV(logreg, gridparam, scoring = 'accuracy')\n",
        "lr.fit(X_val, y_val)\n",
        "logreg = LogisticRegression(random_state=179, solver = \"liblinear\", C = lr.best_params_['C'])\n",
        "logreg.fit(X_train, y_train)\n",
        "logreg_test = accuracy_score(y_test, logreg.predict(X_test))\n",
        "print('accuracy on validation: ', lr.best_score_)"
      ],
      "execution_count": 0,
      "outputs": []
    },
    {
      "cell_type": "code",
      "metadata": {
        "id": "nmn1b6QoMVXs",
        "colab_type": "code",
        "colab": {
          "base_uri": "https://localhost:8080/",
          "height": 52
        },
        "outputId": "86d384f2-3b54-46bf-e4f8-81e4bd21745a"
      },
      "source": [
        "print('knn test score: ', neighbours_test)\n",
        "print('logreg test score: ', logreg_test)"
      ],
      "execution_count": 6,
      "outputs": [
        {
          "output_type": "stream",
          "text": [
            "knn test score:  0.65\n",
            "logreg test score:  1.0\n"
          ],
          "name": "stdout"
        }
      ]
    },
    {
      "cell_type": "markdown",
      "metadata": {
        "id": "bdHiUv3SMqQ9",
        "colab_type": "text"
      },
      "source": [
        "Because of the features of k-NN and LogReg I made an assumption, that k-NN is more about similarities between elements in the classes but not their inner features. As we can see k-NN made rather bad prediction, still better than tossing a coin, but much worse than preds by LogReg. Such structure of data made LogReg more usefull for classifying.\n"
      ]
    },
    {
      "cell_type": "markdown",
      "metadata": {
        "id": "-OsK6jNCN2AO",
        "colab_type": "text"
      },
      "source": [
        "**2-nd Task k-NN > LogReg**\n",
        "Here I'll try exact opposite structure, i should make it less linear, and more interdimensional."
      ]
    },
    {
      "cell_type": "code",
      "metadata": {
        "colab_type": "code",
        "id": "Qgp3y1rPUyfU",
        "colab": {}
      },
      "source": [
        "Y11 = np.arange(25,50)\n",
        "Y12 = np.arange(50,75)\n",
        "X11 = np.arange(25,50)\n",
        "X12 = np.arange(50,75)\n",
        "Y21 = np.arange(37.5,50,0.5)\n",
        "Y22 = np.arange(50,62.5,0.5)\n",
        "X21 = np.arange(37.5,50,0.5)\n",
        "X22 = np.arange(50,62.5,0.5)\n",
        "Y1 = np.concatenate((Y11, Y12, Y12[::-1], Y11[::-1]), axis = 0).reshape(100,1)\n",
        "X1 = np.concatenate((X11[::-1], X11, X12, X12[::-1]), axis = 0).reshape(100,1)\n",
        "Y2 = np.concatenate((Y21, Y22, Y22[::-1], Y21[::-1]), axis = 0).reshape(100,1)\n",
        "X2 = np.concatenate((X21[::-1], X21, X22, X22[::-1]), axis = 0).reshape(100,1)\n",
        "firstclass = np.concatenate((X1 , Y1), axis = 1)\n",
        "secondclass = np.concatenate((X2 , Y2), axis = 1)\n",
        "X = np.concatenate((firstclass, secondclass), axis = 0)\n",
        "y1 = np.full(100, 0).reshape(100,1)\n",
        "y2 = np.full(100, 1).reshape(100,1)\n",
        "y = np.concatenate((y1, y2), axis = 0)"
      ],
      "execution_count": 0,
      "outputs": []
    },
    {
      "cell_type": "markdown",
      "metadata": {
        "id": "fRRT5Hsbn2jG",
        "colab_type": "text"
      },
      "source": [
        "Here is the Plot\n"
      ]
    },
    {
      "cell_type": "code",
      "metadata": {
        "id": "1MdYQU2SP8bd",
        "colab_type": "code",
        "colab": {
          "base_uri": "https://localhost:8080/",
          "height": 283
        },
        "outputId": "e37684d2-e88c-4415-d30b-a53e85a12829"
      },
      "source": [
        "plt.figure()\n",
        "plt.scatter(X[:, 0], X[:, 1], c = y,)"
      ],
      "execution_count": 8,
      "outputs": [
        {
          "output_type": "execute_result",
          "data": {
            "text/plain": [
              "<matplotlib.collections.PathCollection at 0x7f743a774b70>"
            ]
          },
          "metadata": {
            "tags": []
          },
          "execution_count": 8
        },
        {
          "output_type": "display_data",
          "data": {
            "image/png": "[encoded data removed]",
            "text/plain": [
              "<Figure size 432x288 with 1 Axes>"
            ]
          },
          "metadata": {
            "tags": []
          }
        }
      ]
    },
    {
      "cell_type": "code",
      "metadata": {
        "id": "qz3gYcPvVM9o",
        "colab_type": "code",
        "colab": {}
      },
      "source": [
        "X_train, X_test, y_train, y_test = train_test_split(X, y, test_size=0.2, random_state=179)\n",
        "X_train, X_val, y_train, y_val = train_test_split(X_train, y_train, test_size=0.2, random_state=179)"
      ],
      "execution_count": 0,
      "outputs": []
    },
    {
      "cell_type": "code",
      "metadata": {
        "id": "DoO0fypHQMr6",
        "colab_type": "code",
        "colab": {}
      },
      "source": [
        "neighbours = KNeighborsClassifier(n_neighbors=8)\n",
        "neighbours.fit(X_train, y_train)\n",
        "numb_of_neighbours = np.arange(25)\n",
        "gridparam = dict(n_neighbors = numb_of_neighbours)\n",
        "knn = GridSearchCV(neighbours, gridparam, scoring = 'accuracy')\n",
        "knn.fit(X_val, y_val)\n",
        "neighbours = KNeighborsClassifier(n_neighbors = knn.best_params_['n_neighbors'])\n",
        "neighbours.fit(X_train, y_train)\n",
        "neighbours_test = accuracy_score(y_test, neighbours.predict(X_test))\n",
        "print('accuracy on validation: ', knn.best_score_)"
      ],
      "execution_count": 0,
      "outputs": []
    },
    {
      "cell_type": "code",
      "metadata": {
        "id": "8FQGe3I8QaCJ",
        "colab_type": "code",
        "colab": {}
      },
      "source": [
        "logreg = LogisticRegression(random_state=179, solver = \"liblinear\")\n",
        "logreg.fit(X_train, y_train)\n",
        "reg_str = np.arange(0,10,0.1)\n",
        "gridparam = dict(C = reg_str)\n",
        "lr = GridSearchCV(logreg, gridparam, scoring = 'accuracy')\n",
        "lr.fit(X_val, y_val)\n",
        "logreg = LogisticRegression(random_state=179, solver = \"liblinear\", C = lr.best_params_['C'])\n",
        "logreg.fit(X_train, y_train)\n",
        "logreg_test = accuracy_score(y_test, logreg.predict(X_test))\n",
        "print('accuracy on validation: ', lr.best_score_)"
      ],
      "execution_count": 0,
      "outputs": []
    },
    {
      "cell_type": "code",
      "metadata": {
        "id": "38063nvwQ92c",
        "colab_type": "code",
        "colab": {
          "base_uri": "https://localhost:8080/",
          "height": 52
        },
        "outputId": "39d40d59-84d3-4ae6-8b15-87177dc90a2f"
      },
      "source": [
        "print('knn test score: ', neighbours_test)\n",
        "print('logreg test score: ', logreg_test)"
      ],
      "execution_count": 12,
      "outputs": [
        {
          "output_type": "stream",
          "text": [
            "knn test score:  1.0\n",
            "logreg test score:  0.5\n"
          ],
          "name": "stdout"
        }
      ]
    },
    {
      "cell_type": "markdown",
      "metadata": {
        "id": "Z93-TdlgVa41",
        "colab_type": "text"
      },
      "source": [
        "As I said k-NN better performs on interdimensional classifying, which i was trying to show on such dataset. We can see that such data distribution that doesnt depends on features much more suitable for k-NN, that defines the element position in the space. We can see that most of features could be both classes, and that distracts our LogReg and makes it nor better, nor worse than simple coin. What a dreadful moment for this poor LogReg boy. It cant find dependencies between classes and features and makes very many mistakes in classifying"
      ]
    },
    {
      "cell_type": "markdown",
      "metadata": {
        "id": "GGHnuS6JXJ4D",
        "colab_type": "text"
      },
      "source": [
        "**3-rd Task k-NN cosine > k-NN euclidean**\n",
        "The main difference is that cosine metric compute the distance between two vectors of dots, not the distance between dots. So i decide to make a vector for one class And distribute another class among the space. My guess is in cause that the first class will be the vector so it will be easily diagnosed by cosine K-NN as a class. But to make life harder for euclidean K-NN I will place the second class as close to the vector of the first class as i can. That will make noise to euclidean K-NN because the distance between the dots of different classes will be the same or even smaller than the same class. "
      ]
    },
    {
      "cell_type": "code",
      "metadata": {
        "id": "4v_gD8PhXWvS",
        "colab_type": "code",
        "colab": {}
      },
      "source": [
        "np.random.seed(179)\n",
        "X1 = np.random.triangular(0, 1000, 2000, size = 100).reshape(100,1)\n",
        "Y1 = np.random.normal(loc = 0, scale = 10, size = 100).reshape(100,1)\n",
        "firstclass = np.concatenate((X1 , Y1), axis = 1)\n",
        "X2 = np.arange(0,2000,20).reshape(100,1)\n",
        "Y2 = np.zeros(100).reshape(100,1)\n",
        "secondclass = np.concatenate((X2 , Y2), axis = 1)\n",
        "X = np.concatenate((firstclass, secondclass), axis = 0)\n",
        "y1 = np.full(100, 0).reshape(100,1)\n",
        "y2 = np.full(100, 1).reshape(100,1)\n",
        "y = np.concatenate((y1, y2), axis = 0)"
      ],
      "execution_count": 0,
      "outputs": []
    },
    {
      "cell_type": "code",
      "metadata": {
        "id": "mJ1bvJMwYc4q",
        "colab_type": "code",
        "colab": {
          "base_uri": "https://localhost:8080/",
          "height": 283
        },
        "outputId": "6c98ed49-10e5-4e90-cd73-b864ea0bf777"
      },
      "source": [
        "plt.figure()\n",
        "plt.scatter(X[:, 0], X[:, 1], c = y,)"
      ],
      "execution_count": 26,
      "outputs": [
        {
          "output_type": "execute_result",
          "data": {
            "text/plain": [
              "<matplotlib.collections.PathCollection at 0x7f743a5a8da0>"
            ]
          },
          "metadata": {
            "tags": []
          },
          "execution_count": 26
        },
        {
          "output_type": "display_data",
          "data": {
            "image/png": "[encoded data removed]",
            "text/plain": [
              "<Figure size 432x288 with 1 Axes>"
            ]
          },
          "metadata": {
            "tags": []
          }
        }
      ]
    },
    {
      "cell_type": "code",
      "metadata": {
        "id": "KdxcjntmYcLX",
        "colab_type": "code",
        "colab": {}
      },
      "source": [
        "X_train, X_test, y_train, y_test = train_test_split(X, y, test_size=0.2, random_state=179)\n",
        "X_train, X_val, y_train, y_val = train_test_split(X_train, y_train, test_size=0.2, random_state=179)"
      ],
      "execution_count": 0,
      "outputs": []
    },
    {
      "cell_type": "code",
      "metadata": {
        "id": "jw8KohXzZq3M",
        "colab_type": "code",
        "colab": {}
      },
      "source": [
        "neighbourscos = KNeighborsClassifier(n_neighbors=8, metric=\"cosine\")\n",
        "neighbourscos.fit(X_train, y_train)\n",
        "numb_of_neighbours = np.arange(25)\n",
        "gridparam = dict(n_neighbors = numb_of_neighbours)\n",
        "knncos = GridSearchCV(neighbourscos, gridparam, scoring = 'accuracy')\n",
        "knncos.fit(X_val, y_val)\n",
        "neighbourscos = KNeighborsClassifier(n_neighbors = knncos.best_params_['n_neighbors'], metric=\"cosine\")\n",
        "neighbourscos.fit(X_train, y_train)\n",
        "neighbourscos_test = accuracy_score(y_test, neighbourscos.predict(X_test))\n",
        "print('accuracy on validation: ', knncos.best_score_)"
      ],
      "execution_count": 0,
      "outputs": []
    },
    {
      "cell_type": "code",
      "metadata": {
        "id": "OyTuEBBKZrGX",
        "colab_type": "code",
        "colab": {}
      },
      "source": [
        "neighbourseu = KNeighborsClassifier(n_neighbors=8, metric=\"euclidean\")\n",
        "neighbourseu.fit(X_train, y_train)\n",
        "numb_of_neighbours = np.arange(25)\n",
        "gridparam = dict(n_neighbors = numb_of_neighbours)\n",
        "knneu = GridSearchCV(neighbourseu, gridparam, scoring = 'accuracy')\n",
        "knneu.fit(X_val, y_val)\n",
        "neighbourseu = KNeighborsClassifier(n_neighbors = knneu.best_params_['n_neighbors'], metric=\"euclidean\")\n",
        "neighbourseu.fit(X_train, y_train)\n",
        "neighbourseu_test = accuracy_score(y_test, neighbourseu.predict(X_test))\n",
        "print('accuracy on validation: ', knneu.best_score_)"
      ],
      "execution_count": 0,
      "outputs": []
    },
    {
      "cell_type": "code",
      "metadata": {
        "id": "9fXbY-svaeCh",
        "colab_type": "code",
        "colab": {
          "base_uri": "https://localhost:8080/",
          "height": 52
        },
        "outputId": "d16595d3-53f8-4ca4-839c-8fd52e2aca15"
      },
      "source": [
        "print('knn cosine test score: ', neighbourscos_test)\n",
        "print('knn euclidean test score: ', neighbourseu_test)"
      ],
      "execution_count": 30,
      "outputs": [
        {
          "output_type": "stream",
          "text": [
            "knn cosine test score:  1.0\n",
            "knn euclidean test score:  0.525\n"
          ],
          "name": "stdout"
        }
      ]
    },
    {
      "cell_type": "markdown",
      "metadata": {
        "id": "_72VF-Ownfq4",
        "colab_type": "text"
      },
      "source": [
        "As we can see Euclidean K-NN lost in accuracy because of small distance between dots of the same class, when Cosine K-NN make very accurate prediction, because it compute the distance between vectors."
      ]
    }
  ]
}