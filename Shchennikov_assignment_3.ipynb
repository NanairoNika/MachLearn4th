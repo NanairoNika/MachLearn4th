{
  "nbformat": 4,
  "nbformat_minor": 0,
  "metadata": {
    "kernelspec": {
      "display_name": "Python 3",
      "language": "python",
      "name": "python3"
    },
    "language_info": {
      "codemirror_mode": {
        "name": "ipython",
        "version": 3
      },
      "file_extension": ".py",
      "mimetype": "text/x-python",
      "name": "python",
      "nbconvert_exporter": "python",
      "pygments_lexer": "ipython3",
      "version": "3.7.5"
    },
    "colab": {
      "name": "Schennikov_assignment_3.ipynb",
      "provenance": []
    },
    "widgets": {
      "application/vnd.jupyter.widget-state+json": {
        "562678de7f6c427d9bff4293f797a2e4": {
          "model_module": "@jupyter-widgets/controls",
          "model_name": "HBoxModel",
          "state": {
            "_view_name": "HBoxView",
            "_dom_classes": [],
            "_model_name": "HBoxModel",
            "_view_module": "@jupyter-widgets/controls",
            "_model_module_version": "1.5.0",
            "_view_count": null,
            "_view_module_version": "1.5.0",
            "box_style": "",
            "layout": "IPY_MODEL_c8099e0d173c497184f5cd8d627b31a3",
            "_model_module": "@jupyter-widgets/controls",
            "children": [
              "IPY_MODEL_0cc4ea9a1ae7426e91ef06797bb8a3f3",
              "IPY_MODEL_2b0323300fd54287a6bc17f1441453d7"
            ]
          }
        },
        "c8099e0d173c497184f5cd8d627b31a3": {
          "model_module": "@jupyter-widgets/base",
          "model_name": "LayoutModel",
          "state": {
            "_view_name": "LayoutView",
            "grid_template_rows": null,
            "right": null,
            "justify_content": null,
            "_view_module": "@jupyter-widgets/base",
            "overflow": null,
            "_model_module_version": "1.2.0",
            "_view_count": null,
            "flex_flow": null,
            "width": null,
            "min_width": null,
            "border": null,
            "align_items": null,
            "bottom": null,
            "_model_module": "@jupyter-widgets/base",
            "top": null,
            "grid_column": null,
            "overflow_y": null,
            "overflow_x": null,
            "grid_auto_flow": null,
            "grid_area": null,
            "grid_template_columns": null,
            "flex": null,
            "_model_name": "LayoutModel",
            "justify_items": null,
            "grid_row": null,
            "max_height": null,
            "align_content": null,
            "visibility": null,
            "align_self": null,
            "height": null,
            "min_height": null,
            "padding": null,
            "grid_auto_rows": null,
            "grid_gap": null,
            "max_width": null,
            "order": null,
            "_view_module_version": "1.2.0",
            "grid_template_areas": null,
            "object_position": null,
            "object_fit": null,
            "grid_auto_columns": null,
            "margin": null,
            "display": null,
            "left": null
          }
        },
        "0cc4ea9a1ae7426e91ef06797bb8a3f3": {
          "model_module": "@jupyter-widgets/controls",
          "model_name": "IntProgressModel",
          "state": {
            "_view_name": "ProgressView",
            "style": "IPY_MODEL_6496435c8d5a4bd8b84d75fadd90de23",
            "_dom_classes": [],
            "description": "epoch:0: 100%",
            "_model_name": "IntProgressModel",
            "bar_style": "success",
            "max": 36,
            "_view_module": "@jupyter-widgets/controls",
            "_model_module_version": "1.5.0",
            "value": 36,
            "_view_count": null,
            "_view_module_version": "1.5.0",
            "orientation": "horizontal",
            "min": 0,
            "description_tooltip": null,
            "_model_module": "@jupyter-widgets/controls",
            "layout": "IPY_MODEL_ea56872d4c2946d48b590a0bfc66acd3"
          }
        },
        "2b0323300fd54287a6bc17f1441453d7": {
          "model_module": "@jupyter-widgets/controls",
          "model_name": "HTMLModel",
          "state": {
            "_view_name": "HTMLView",
            "style": "IPY_MODEL_5b45a38d3ff742519dbc4375760e090c",
            "_dom_classes": [],
            "description": "",
            "_model_name": "HTMLModel",
            "placeholder": "​",
            "_view_module": "@jupyter-widgets/controls",
            "_model_module_version": "1.5.0",
            "value": " 36/36 [00:01&lt;00:00, 33.81it/s]",
            "_view_count": null,
            "_view_module_version": "1.5.0",
            "description_tooltip": null,
            "_model_module": "@jupyter-widgets/controls",
            "layout": "IPY_MODEL_430df12015e44d8f85600bb5b3d22087"
          }
        },
        "6496435c8d5a4bd8b84d75fadd90de23": {
          "model_module": "@jupyter-widgets/controls",
          "model_name": "ProgressStyleModel",
          "state": {
            "_view_name": "StyleView",
            "_model_name": "ProgressStyleModel",
            "description_width": "initial",
            "_view_module": "@jupyter-widgets/base",
            "_model_module_version": "1.5.0",
            "_view_count": null,
            "_view_module_version": "1.2.0",
            "bar_color": null,
            "_model_module": "@jupyter-widgets/controls"
          }
        },
        "ea56872d4c2946d48b590a0bfc66acd3": {
          "model_module": "@jupyter-widgets/base",
          "model_name": "LayoutModel",
          "state": {
            "_view_name": "LayoutView",
            "grid_template_rows": null,
            "right": null,
            "justify_content": null,
            "_view_module": "@jupyter-widgets/base",
            "overflow": null,
            "_model_module_version": "1.2.0",
            "_view_count": null,
            "flex_flow": null,
            "width": null,
            "min_width": null,
            "border": null,
            "align_items": null,
            "bottom": null,
            "_model_module": "@jupyter-widgets/base",
            "top": null,
            "grid_column": null,
            "overflow_y": null,
            "overflow_x": null,
            "grid_auto_flow": null,
            "grid_area": null,
            "grid_template_columns": null,
            "flex": null,
            "_model_name": "LayoutModel",
            "justify_items": null,
            "grid_row": null,
            "max_height": null,
            "align_content": null,
            "visibility": null,
            "align_self": null,
            "height": null,
            "min_height": null,
            "padding": null,
            "grid_auto_rows": null,
            "grid_gap": null,
            "max_width": null,
            "order": null,
            "_view_module_version": "1.2.0",
            "grid_template_areas": null,
            "object_position": null,
            "object_fit": null,
            "grid_auto_columns": null,
            "margin": null,
            "display": null,
            "left": null
          }
        },
        "5b45a38d3ff742519dbc4375760e090c": {
          "model_module": "@jupyter-widgets/controls",
          "model_name": "DescriptionStyleModel",
          "state": {
            "_view_name": "StyleView",
            "_model_name": "DescriptionStyleModel",
            "description_width": "",
            "_view_module": "@jupyter-widgets/base",
            "_model_module_version": "1.5.0",
            "_view_count": null,
            "_view_module_version": "1.2.0",
            "_model_module": "@jupyter-widgets/controls"
          }
        },
        "430df12015e44d8f85600bb5b3d22087": {
          "model_module": "@jupyter-widgets/base",
          "model_name": "LayoutModel",
          "state": {
            "_view_name": "LayoutView",
            "grid_template_rows": null,
            "right": null,
            "justify_content": null,
            "_view_module": "@jupyter-widgets/base",
            "overflow": null,
            "_model_module_version": "1.2.0",
            "_view_count": null,
            "flex_flow": null,
            "width": null,
            "min_width": null,
            "border": null,
            "align_items": null,
            "bottom": null,
            "_model_module": "@jupyter-widgets/base",
            "top": null,
            "grid_column": null,
            "overflow_y": null,
            "overflow_x": null,
            "grid_auto_flow": null,
            "grid_area": null,
            "grid_template_columns": null,
            "flex": null,
            "_model_name": "LayoutModel",
            "justify_items": null,
            "grid_row": null,
            "max_height": null,
            "align_content": null,
            "visibility": null,
            "align_self": null,
            "height": null,
            "min_height": null,
            "padding": null,
            "grid_auto_rows": null,
            "grid_gap": null,
            "max_width": null,
            "order": null,
            "_view_module_version": "1.2.0",
            "grid_template_areas": null,
            "object_position": null,
            "object_fit": null,
            "grid_auto_columns": null,
            "margin": null,
            "display": null,
            "left": null
          }
        },
        "400cf100e6a44606b971e2c9d9c4520e": {
          "model_module": "@jupyter-widgets/controls",
          "model_name": "HBoxModel",
          "state": {
            "_view_name": "HBoxView",
            "_dom_classes": [],
            "_model_name": "HBoxModel",
            "_view_module": "@jupyter-widgets/controls",
            "_model_module_version": "1.5.0",
            "_view_count": null,
            "_view_module_version": "1.5.0",
            "box_style": "",
            "layout": "IPY_MODEL_98b0c528cadf4279bb5bbd3237669e15",
            "_model_module": "@jupyter-widgets/controls",
            "children": [
              "IPY_MODEL_4ec940d7603043cca70744fa4f8ccffe",
              "IPY_MODEL_009d4373576c44edaa0ace6a99cb62a9"
            ]
          }
        },
        "98b0c528cadf4279bb5bbd3237669e15": {
          "model_module": "@jupyter-widgets/base",
          "model_name": "LayoutModel",
          "state": {
            "_view_name": "LayoutView",
            "grid_template_rows": null,
            "right": null,
            "justify_content": null,
            "_view_module": "@jupyter-widgets/base",
            "overflow": null,
            "_model_module_version": "1.2.0",
            "_view_count": null,
            "flex_flow": null,
            "width": null,
            "min_width": null,
            "border": null,
            "align_items": null,
            "bottom": null,
            "_model_module": "@jupyter-widgets/base",
            "top": null,
            "grid_column": null,
            "overflow_y": null,
            "overflow_x": null,
            "grid_auto_flow": null,
            "grid_area": null,
            "grid_template_columns": null,
            "flex": null,
            "_model_name": "LayoutModel",
            "justify_items": null,
            "grid_row": null,
            "max_height": null,
            "align_content": null,
            "visibility": null,
            "align_self": null,
            "height": null,
            "min_height": null,
            "padding": null,
            "grid_auto_rows": null,
            "grid_gap": null,
            "max_width": null,
            "order": null,
            "_view_module_version": "1.2.0",
            "grid_template_areas": null,
            "object_position": null,
            "object_fit": null,
            "grid_auto_columns": null,
            "margin": null,
            "display": null,
            "left": null
          }
        },
        "4ec940d7603043cca70744fa4f8ccffe": {
          "model_module": "@jupyter-widgets/controls",
          "model_name": "IntProgressModel",
          "state": {
            "_view_name": "ProgressView",
            "style": "IPY_MODEL_8124635e5d1e4981a42eab1c500c59ce",
            "_dom_classes": [],
            "description": "epoch:1: 100%",
            "_model_name": "IntProgressModel",
            "bar_style": "success",
            "max": 36,
            "_view_module": "@jupyter-widgets/controls",
            "_model_module_version": "1.5.0",
            "value": 36,
            "_view_count": null,
            "_view_module_version": "1.5.0",
            "orientation": "horizontal",
            "min": 0,
            "description_tooltip": null,
            "_model_module": "@jupyter-widgets/controls",
            "layout": "IPY_MODEL_583da3f435f14479add13fef16a8bd34"
          }
        },
        "009d4373576c44edaa0ace6a99cb62a9": {
          "model_module": "@jupyter-widgets/controls",
          "model_name": "HTMLModel",
          "state": {
            "_view_name": "HTMLView",
            "style": "IPY_MODEL_d6851ced69364605a5187e31fe594a12",
            "_dom_classes": [],
            "description": "",
            "_model_name": "HTMLModel",
            "placeholder": "​",
            "_view_module": "@jupyter-widgets/controls",
            "_model_module_version": "1.5.0",
            "value": " 36/36 [00:00&lt;00:00, 42.63it/s]",
            "_view_count": null,
            "_view_module_version": "1.5.0",
            "description_tooltip": null,
            "_model_module": "@jupyter-widgets/controls",
            "layout": "IPY_MODEL_da9ca03693e742acab6bd2b9a7bc2234"
          }
        },
        "8124635e5d1e4981a42eab1c500c59ce": {
          "model_module": "@jupyter-widgets/controls",
          "model_name": "ProgressStyleModel",
          "state": {
            "_view_name": "StyleView",
            "_model_name": "ProgressStyleModel",
            "description_width": "initial",
            "_view_module": "@jupyter-widgets/base",
            "_model_module_version": "1.5.0",
            "_view_count": null,
            "_view_module_version": "1.2.0",
            "bar_color": null,
            "_model_module": "@jupyter-widgets/controls"
          }
        },
        "583da3f435f14479add13fef16a8bd34": {
          "model_module": "@jupyter-widgets/base",
          "model_name": "LayoutModel",
          "state": {
            "_view_name": "LayoutView",
            "grid_template_rows": null,
            "right": null,
            "justify_content": null,
            "_view_module": "@jupyter-widgets/base",
            "overflow": null,
            "_model_module_version": "1.2.0",
            "_view_count": null,
            "flex_flow": null,
            "width": null,
            "min_width": null,
            "border": null,
            "align_items": null,
            "bottom": null,
            "_model_module": "@jupyter-widgets/base",
            "top": null,
            "grid_column": null,
            "overflow_y": null,
            "overflow_x": null,
            "grid_auto_flow": null,
            "grid_area": null,
            "grid_template_columns": null,
            "flex": null,
            "_model_name": "LayoutModel",
            "justify_items": null,
            "grid_row": null,
            "max_height": null,
            "align_content": null,
            "visibility": null,
            "align_self": null,
            "height": null,
            "min_height": null,
            "padding": null,
            "grid_auto_rows": null,
            "grid_gap": null,
            "max_width": null,
            "order": null,
            "_view_module_version": "1.2.0",
            "grid_template_areas": null,
            "object_position": null,
            "object_fit": null,
            "grid_auto_columns": null,
            "margin": null,
            "display": null,
            "left": null
          }
        },
        "d6851ced69364605a5187e31fe594a12": {
          "model_module": "@jupyter-widgets/controls",
          "model_name": "DescriptionStyleModel",
          "state": {
            "_view_name": "StyleView",
            "_model_name": "DescriptionStyleModel",
            "description_width": "",
            "_view_module": "@jupyter-widgets/base",
            "_model_module_version": "1.5.0",
            "_view_count": null,
            "_view_module_version": "1.2.0",
            "_model_module": "@jupyter-widgets/controls"
          }
        },
        "da9ca03693e742acab6bd2b9a7bc2234": {
          "model_module": "@jupyter-widgets/base",
          "model_name": "LayoutModel",
          "state": {
            "_view_name": "LayoutView",
            "grid_template_rows": null,
            "right": null,
            "justify_content": null,
            "_view_module": "@jupyter-widgets/base",
            "overflow": null,
            "_model_module_version": "1.2.0",
            "_view_count": null,
            "flex_flow": null,
            "width": null,
            "min_width": null,
            "border": null,
            "align_items": null,
            "bottom": null,
            "_model_module": "@jupyter-widgets/base",
            "top": null,
            "grid_column": null,
            "overflow_y": null,
            "overflow_x": null,
            "grid_auto_flow": null,
            "grid_area": null,
            "grid_template_columns": null,
            "flex": null,
            "_model_name": "LayoutModel",
            "justify_items": null,
            "grid_row": null,
            "max_height": null,
            "align_content": null,
            "visibility": null,
            "align_self": null,
            "height": null,
            "min_height": null,
            "padding": null,
            "grid_auto_rows": null,
            "grid_gap": null,
            "max_width": null,
            "order": null,
            "_view_module_version": "1.2.0",
            "grid_template_areas": null,
            "object_position": null,
            "object_fit": null,
            "grid_auto_columns": null,
            "margin": null,
            "display": null,
            "left": null
          }
        }
      }
    }
  },
  "cells": [
    {
      "cell_type": "markdown",
      "metadata": {
        "id": "CtRjWrk79P2A",
        "colab_type": "text"
      },
      "source": [
        "# Assignment 3\n",
        "\n",
        "1. Implement Logistic Regression with Stochastic Gradient Decent using numpy\n",
        "1. Implement Logistic Regression with early stopping using pytorch\n",
        "\n",
        "Additional readings:\n",
        "1. https://www.pythonlikeyoumeanit.com/Module3_IntroducingNumpy/VectorizedOperations.html\n",
        "1. https://pytorch.org/tutorials/beginner/deep_learning_60min_blitz.html"
      ]
    },
    {
      "cell_type": "code",
      "metadata": {
        "id": "bwXTFr1G9P2I",
        "colab_type": "code",
        "colab": {}
      },
      "source": [
        "import numpy as np\n",
        "import matplotlib.pyplot as plt\n",
        "from sklearn.base import ClassifierMixin\n",
        "from sklearn.datasets import fetch_20newsgroups\n",
        "from sklearn import metrics\n",
        "import matplotlib.pyplot as plt\n",
        "from sklearn.feature_extraction.text import TfidfVectorizer\n",
        "\n",
        "# retrieve dataset\n",
        "data = fetch_20newsgroups()\n",
        "\n",
        "\n",
        "X_train = data['data']\n",
        "y_train = data['target']\n",
        "\n",
        "tfidf = TfidfVectorizer(max_df=0.5, min_df=10)\n",
        "X_train = tfidf.fit_transform(X_train)\n",
        "\n",
        "test_data = fetch_20newsgroups(subset='test')\n",
        "X_test = tfidf.transform(test_data['data'])\n",
        "y_test = test_data['target']"
      ],
      "execution_count": 0,
      "outputs": []
    },
    {
      "cell_type": "markdown",
      "metadata": {
        "id": "gMuIm3nG9P2T",
        "colab_type": "text"
      },
      "source": [
        "## 1 Binary Logistic Regression\n",
        "$\\{(x_i, y_i)\\}_{i=1}^N$, $y \\in \\{0,1\\}$\n",
        "$$ z = Xw + b $$\n",
        "\n",
        "$$p(y=1 | x) = \\sigma(z) = \\frac 1 {1 + e^{-z}}$$\n",
        "\n",
        "$$ L_{batch} = - \\frac 1 {|batch|} \\sum_{i \\in batch}^N [ y_i \\log \\sigma(z_i) + (1 - y_i) \\log (1 - \\sigma(z_i)) ] + \\frac \\lambda 2 w^T w$$\n",
        "\n",
        "Stochastic Gradient Decent for logreg:\n",
        "1. init w ~ random N(0,1), b = 0\n",
        "1. for epoch = 1..n_epochs:\n",
        "    * shuffle dataset\n",
        "    * for every batch:\n",
        "        * $w^{(t)} \\leftarrow w^{(t-1)} - \\alpha \\nabla_{w} L_{batch}(w^{(t-1)},b^{(t-1)})$\n",
        "        * $b^{(t)} \\leftarrow b^{(t-1)} - \\alpha \\nabla_{b} L_{batch}(w^{(t-1)},b^{(t-1)})$\n",
        "        \n",
        "$w$ - weights  \n",
        "$b$ - biases  \n",
        "$\\alpha$ - learning rate\n",
        "\n",
        "Hint:\n",
        "$$\\nabla_w L = \\frac {\\partial L} {\\partial \\sigma} \\frac {\\partial \\sigma} {\\partial z} \\frac {\\partial z} {\\partial w} + \\frac {\\partial (\\frac \\lambda 2 w^T w)} {\\partial w} $$\n",
        "$$\\nabla_b L = \\frac {\\partial L} {\\partial \\sigma} \\frac {\\partial \\sigma} {\\partial z} \\frac {\\partial z} {\\partial b} $$"
      ]
    },
    {
      "cell_type": "code",
      "metadata": {
        "id": "GU5dDs5K9P2X",
        "colab_type": "code",
        "outputId": "81dbef78-9dfa-4d1f-f71c-40cdff1b649e",
        "colab": {
          "base_uri": "https://localhost:8080/",
          "height": 35
        }
      },
      "source": [
        "# make dataset for binary classification\n",
        "\n",
        "X_train_bin = X_train[y_train < 2]\n",
        "y_train_bin = y_train[y_train < 2]\n",
        "\n",
        "X_test_bin = X_test[y_test < 2]\n",
        "y_test_bin = y_test[y_test < 2]\n",
        "\n",
        "y_train_bin.shape, y_test_bin.shape"
      ],
      "execution_count": 0,
      "outputs": [
        {
          "output_type": "execute_result",
          "data": {
            "text/plain": [
              "((1064,), (708,))"
            ]
          },
          "metadata": {
            "tags": []
          },
          "execution_count": 2
        }
      ]
    },
    {
      "cell_type": "code",
      "metadata": {
        "id": "p2XJX_qC9P2p",
        "colab_type": "code",
        "outputId": "7ed45102-4a25-49c1-bc53-d373e76fdbcf",
        "colab": {
          "base_uri": "https://localhost:8080/",
          "height": 301
        }
      },
      "source": [
        "class LogRegNumpy(ClassifierMixin):\n",
        "    def __init__(self, llambda=1, lr=0.1, batch_size=32, n_epochs=100):\n",
        "        \"\"\"\n",
        "        llambda: regularization strength\n",
        "        lr: learning rate\n",
        "        \"\"\"\n",
        "        self.w = None\n",
        "        self.b = 0\n",
        "        self.llambda = llambda\n",
        "        self.n_epochs = n_epochs\n",
        "        self.lr = lr\n",
        "        self.history = []\n",
        "        self.batch_size = batch_size\n",
        "\n",
        "    def softmax(self, X):\n",
        "        z = 1.0/(1.0 + np.exp(-X))\n",
        "        return z\n",
        "\n",
        "\n",
        "    def fit(self, X, y):\n",
        "        np.random.seed(179)\n",
        "        self.w = np.random.randn(X.shape[1])\n",
        "        self.b = 0\n",
        "        \n",
        "        for epoch in range(self.n_epochs):\n",
        "            \n",
        "            # random permutation over indices of dataset\n",
        "            batch_indices = np.random.permutation(len(y))\n",
        "            \n",
        "            for j in range(0, len(y), self.batch_size):\n",
        "                batch_idx = batch_indices[j:j+self.batch_size]\n",
        "                batch_X = X[batch_idx]\n",
        "                batch_y = y[batch_idx]\n",
        "                \n",
        "\n",
        "                # forward pass\n",
        "                z = self.w.reshape(1,batch_X.shape[1]) @ batch_X.T\n",
        "                z = self.softmax(z + self.b)\n",
        "                loss = (-1) * np.mean(np.multiply(batch_y, np.log(z)) + np.multiply(1-batch_y, np.log(1 - z)), axis=1)\n",
        "\n",
        "                # backward pass\n",
        "                grad_w = ((z - batch_y) @ batch_X)\n",
        "                grad_b = np.mean((z - batch_y))\n",
        "\n",
        "                # SGD optimization step\n",
        "                self.w = self.w - self.lr * grad_w\n",
        "                self.b = self.b - self.lr * grad_b\n",
        "\n",
        "                \n",
        "                self.history.append(loss)\n",
        "        \n",
        "        return self \n",
        "    \n",
        "    def predict_proba(self, X):\n",
        "        z = (self.w @ X.T)\n",
        "        p = self.softmax(z+self.b)\n",
        "        return p\n",
        "    \n",
        "    def predict(self, X):\n",
        "        return (self.predict_proba(X) > 0.5).astype(np.int)\n",
        "    \n",
        "    \n",
        "model = LogRegNumpy(llambda = 0.001, lr=3, batch_size=128, n_epochs=100)\n",
        "model.fit(X_train_bin, y_train_bin)\n",
        "print('auc', metrics.roc_auc_score(y_test_bin, model.predict_proba(X_test_bin)[0]))\n",
        "\n",
        "plt.plot(np.arange(len(model.history)), model.history)\n",
        "plt.xlabel('iters')\n",
        "plt.ylabel('train loss');"
      ],
      "execution_count": 0,
      "outputs": [
        {
          "output_type": "stream",
          "text": [
            "auc 0.997582419353539\n"
          ],
          "name": "stdout"
        },
        {
          "output_type": "display_data",
          "data": {
            "image/png": "[encoded data removed]",
            "text/plain": [
              "<Figure size 432x288 with 1 Axes>"
            ]
          },
          "metadata": {
            "tags": []
          }
        }
      ]
    },
    {
      "cell_type": "markdown",
      "metadata": {
        "id": "JWgEea2-9P2-",
        "colab_type": "text"
      },
      "source": [
        "# Multinomial Logistic Regression using pytorch"
      ]
    },
    {
      "cell_type": "code",
      "metadata": {
        "id": "guggpYc09P3A",
        "colab_type": "code",
        "colab": {}
      },
      "source": [
        "import torch\n",
        "import torch.nn as nn\n",
        "import torch.optim as optim\n",
        "import torch.nn.functional as F\n",
        "from torch.utils.data import DataLoader, TensorDataset\n",
        "from tqdm import tqdm_notebook as tqdm\n",
        "from sklearn.model_selection import train_test_split"
      ],
      "execution_count": 0,
      "outputs": []
    },
    {
      "cell_type": "markdown",
      "metadata": {
        "id": "DdNeBqVO9P3I",
        "colab_type": "text"
      },
      "source": [
        "###  [1 point] implement linear model $Z = XW + b$"
      ]
    },
    {
      "cell_type": "code",
      "metadata": {
        "id": "8L7L1hkt9P3K",
        "colab_type": "code",
        "colab": {}
      },
      "source": [
        "class LogRegNN(nn.Module):\n",
        "    \n",
        "    def __init__(self, n_features, n_classes):\n",
        "        super(LogRegNN, self).__init__()\n",
        "        \n",
        "        # create tensor of weights and tensor of biases\n",
        "        # initialize tensors from N(0,1) \n",
        "        # W has shape (n_features, n_classes)\n",
        "        # b has shape (n_classes,)\n",
        "        self.W = nn.Parameter(torch.randn(n_features, n_classes))\n",
        "        self.b = nn.Parameter(torch.randn(n_classes))\n",
        "        \n",
        "    def forward(self, x):\n",
        "        \"\"\"\n",
        "        In this method we implement connections between neural network weights\n",
        "        x: batch feature matrix\n",
        "        returns: probability logits\n",
        "        \"\"\"\n",
        "        print(x.shape, self.W.shape)\n",
        "        result = x @ self.W + self.b \n",
        "        return result"
      ],
      "execution_count": 0,
      "outputs": []
    },
    {
      "cell_type": "code",
      "metadata": {
        "id": "cP3wuDLy9P3T",
        "colab_type": "code",
        "colab": {}
      },
      "source": [
        "def train_batch(model, batch_x, batch_y):\n",
        "    # set NN model in training mode\n",
        "    model.train()\n",
        "    \n",
        "    # zero gradients\n",
        "    optimizer.zero_grad()\n",
        "    # forward pass\n",
        "    pred = model(batch_x)\n",
        "    # cross-entropy loss\n",
        "    loss = criterion(pred, batch_y)\n",
        "    # calculate gradients\n",
        "    loss.backward()\n",
        "    # make optimization step\n",
        "    optimizer.step()\n",
        "    \n",
        "    # return batch loss\n",
        "    return loss.data.detach().item()\n",
        "\n",
        "def eval_batch(model, batch_x, batch_y):\n",
        "    # set NN model in evaluation mode\n",
        "    model.eval()\n",
        "    \n",
        "    with torch.no_grad():\n",
        "        # forward pass\n",
        "        pred = model(batch_x)\n",
        "        # cross-entropy loss\n",
        "        loss = criterion(pred, batch_y)\n",
        "\n",
        "    # return batch loss\n",
        "    return loss.data.item()"
      ],
      "execution_count": 0,
      "outputs": []
    },
    {
      "cell_type": "markdown",
      "metadata": {
        "id": "Xb2E6Ppc9P3d",
        "colab_type": "text"
      },
      "source": [
        "### [2 points] implement early stopping using early_stopping_patience"
      ]
    },
    {
      "cell_type": "code",
      "metadata": {
        "id": "Uw5CR2ng9P3f",
        "colab_type": "code",
        "colab": {}
      },
      "source": [
        "def train(model, train_loader, valid_loader, n_epochs, early_stopping_patience=5):\n",
        "    \"\"\"\n",
        "    early_stopping_patience - number of consecutive epochs of growing validation loss to wait\n",
        "    \"\"\"\n",
        "    history = {'train': [], 'valid': []}\n",
        "\n",
        "    timer = 0\n",
        "    old_epoch_loss = 0.0\n",
        "    \n",
        "    for epoch in range(n_epochs):\n",
        "        epoch_train_loss = 0\n",
        "        \n",
        "        # iterate over batches\n",
        "        for batch_x, batch_y in tqdm(train_loader, desc=f'epoch:{epoch}', leave=True):\n",
        "\n",
        "            loss = train_batch(model, batch_x, batch_y)\n",
        "            epoch_train_loss += loss\n",
        "\n",
        "        # average loss for epoch\n",
        "        epoch_train_loss /= len(train_loader)\n",
        "        history['train'].append(epoch_train_loss)\n",
        "        \n",
        "        epoch_valid_loss = 0\n",
        "        for batch_x, batch_y in valid_loader:\n",
        "            loss = eval_batch(model, batch_x, batch_y)\n",
        "            epoch_valid_loss += loss\n",
        "            \n",
        "        epoch_valid_loss /= len(valid_loader)\n",
        "        print(f'train loss: {epoch_train_loss:.3f} valid loss:{epoch_valid_loss:.3f}')\n",
        "        history['valid'].append(epoch_valid_loss)\n",
        "        \n",
        "        if epoch_valid_loss >= old_epoch_loss:\n",
        "            timer += 1\n",
        "        else:\n",
        "            timer = 0\n",
        "        if timer == early_stopping_patience:\n",
        "            break\n",
        "    return history "
      ],
      "execution_count": 0,
      "outputs": []
    },
    {
      "cell_type": "markdown",
      "metadata": {
        "id": "ePH_eZ-Q9P3r",
        "colab_type": "text"
      },
      "source": [
        "### predict hard labels [1 point]"
      ]
    },
    {
      "cell_type": "code",
      "metadata": {
        "id": "6AhBjR7b9P3u",
        "colab_type": "code",
        "colab": {}
      },
      "source": [
        "def predict(model, test_loader):\n",
        "    \n",
        "    model.eval()\n",
        "    \n",
        "    result = []\n",
        "    with torch.no_grad():\n",
        "        for batch_x in test_loader:\n",
        "            # <TODO> predict hard labels\n",
        "            pred = \n",
        "            result.append(pred)\n",
        "    return np.concatenate(result)"
      ],
      "execution_count": 0,
      "outputs": []
    },
    {
      "cell_type": "markdown",
      "metadata": {
        "id": "F3H4172e9P38",
        "colab_type": "text"
      },
      "source": [
        "DataLoader implements iteration over batches and shuffling\n",
        "\n",
        "L2 regularization coef is embedded into SGD.weight_decay: \n",
        "\n",
        "1. $w^{(t-1)} \\leftarrow w^{(t-2)} - \\alpha \\lambda w^{(t-2)} $  \n",
        "1. $w^{(t)} \\leftarrow w^{(t-1)} - \\alpha \\nabla_{w} L(w^{(t-1)}) $\n",
        "\n",
        "here   \n",
        "$\\alpha$ - learning rate  \n",
        "$\\lambda$ - weight-decay = L2 regularization coef"
      ]
    },
    {
      "cell_type": "code",
      "metadata": {
        "id": "kztMjy2z9P4A",
        "colab_type": "code",
        "outputId": "f55e1151-fa0c-42a3-9bb1-d0288cb14e2d",
        "colab": {
          "base_uri": "https://localhost:8080/",
          "height": 1000,
          "referenced_widgets": [
            "562678de7f6c427d9bff4293f797a2e4",
            "c8099e0d173c497184f5cd8d627b31a3",
            "0cc4ea9a1ae7426e91ef06797bb8a3f3",
            "2b0323300fd54287a6bc17f1441453d7",
            "6496435c8d5a4bd8b84d75fadd90de23",
            "ea56872d4c2946d48b590a0bfc66acd3",
            "5b45a38d3ff742519dbc4375760e090c",
            "430df12015e44d8f85600bb5b3d22087",
            "400cf100e6a44606b971e2c9d9c4520e",
            "98b0c528cadf4279bb5bbd3237669e15",
            "4ec940d7603043cca70744fa4f8ccffe",
            "009d4373576c44edaa0ace6a99cb62a9",
            "8124635e5d1e4981a42eab1c500c59ce",
            "583da3f435f14479add13fef16a8bd34",
            "d6851ced69364605a5187e31fe594a12",
            "da9ca03693e742acab6bd2b9a7bc2234"
          ]
        }
      },
      "source": [
        "X_train2, X_valid2, y_train2, y_valid2 = train_test_split(X_train, y_train, stratify=y_train,\n",
        "                                                      shuffle=True, test_size=0.2, random_state=42)\n",
        "\n",
        "batch_size = 256\n",
        "\n",
        "\n",
        "train_loader = DataLoader(TensorDataset(torch.tensor(X_train2.todense()).float(), torch.tensor(y_train2).long()), \n",
        "                          batch_size=batch_size, shuffle=True)\n",
        "valid_loader = DataLoader(TensorDataset(torch.tensor(X_valid2.todense()).float(), torch.tensor(y_valid2).long()), \n",
        "                          batch_size=batch_size)\n",
        "test_loader = DataLoader(torch.tensor(X_test.todense()).float(), \n",
        "                          batch_size=batch_size)\n",
        "\n",
        "model = LogRegNN(X_train.shape[1], 20)\n",
        "\n",
        "criterion = nn.CrossEntropyLoss()\n",
        "# L2 regularization is embeded in \n",
        "optimizer = optim.SGD(model.parameters(), lr=10.0, weight_decay=0.0001)\n",
        "\n",
        "history = train(model, train_loader, valid_loader, 100, 2)"
      ],
      "execution_count": 0,
      "outputs": [
        {
          "output_type": "stream",
          "text": [
            "/usr/local/lib/python3.6/dist-packages/ipykernel_launcher.py:14: TqdmDeprecationWarning: This function will be removed in tqdm==5.0.0\n",
            "Please use `tqdm.notebook.tqdm` instead of `tqdm.tqdm_notebook`\n",
            "  \n"
          ],
          "name": "stderr"
        },
        {
          "output_type": "display_data",
          "data": {
            "application/vnd.jupyter.widget-view+json": {
              "model_id": "562678de7f6c427d9bff4293f797a2e4",
              "version_minor": 0,
              "version_major": 2
            },
            "text/plain": [
              "HBox(children=(IntProgress(value=0, description='epoch:0', max=36, style=ProgressStyle(description_width='init…"
            ]
          },
          "metadata": {
            "tags": []
          }
        },
        {
          "output_type": "stream",
          "text": [
            "torch.Size([256, 15566]) torch.Size([15566, 20])\n",
            "torch.Size([256, 15566]) torch.Size([15566, 20])\n",
            "torch.Size([256, 15566]) torch.Size([15566, 20])\n",
            "torch.Size([256, 15566]) torch.Size([15566, 20])\n",
            "torch.Size([256, 15566]) torch.Size([15566, 20])\n",
            "torch.Size([256, 15566]) torch.Size([15566, 20])\n",
            "torch.Size([256, 15566]) torch.Size([15566, 20])\n",
            "torch.Size([256, 15566]) torch.Size([15566, 20])\n",
            "torch.Size([256, 15566]) torch.Size([15566, 20])\n",
            "torch.Size([256, 15566]) torch.Size([15566, 20])\n",
            "torch.Size([256, 15566]) torch.Size([15566, 20])\n",
            "torch.Size([256, 15566]) torch.Size([15566, 20])\n",
            "torch.Size([256, 15566]) torch.Size([15566, 20])\n",
            "torch.Size([256, 15566]) torch.Size([15566, 20])\n",
            "torch.Size([256, 15566]) torch.Size([15566, 20])\n",
            "torch.Size([256, 15566]) torch.Size([15566, 20])\n",
            "torch.Size([256, 15566]) torch.Size([15566, 20])\n",
            "torch.Size([256, 15566]) torch.Size([15566, 20])\n",
            "torch.Size([256, 15566]) torch.Size([15566, 20])\n",
            "torch.Size([256, 15566]) torch.Size([15566, 20])\n",
            "torch.Size([256, 15566]) torch.Size([15566, 20])\n",
            "torch.Size([256, 15566]) torch.Size([15566, 20])\n",
            "torch.Size([256, 15566]) torch.Size([15566, 20])\n",
            "torch.Size([256, 15566]) torch.Size([15566, 20])\n",
            "torch.Size([256, 15566]) torch.Size([15566, 20])\n",
            "torch.Size([256, 15566]) torch.Size([15566, 20])\n",
            "torch.Size([256, 15566]) torch.Size([15566, 20])\n",
            "torch.Size([256, 15566]) torch.Size([15566, 20])\n",
            "torch.Size([256, 15566]) torch.Size([15566, 20])\n",
            "torch.Size([256, 15566]) torch.Size([15566, 20])\n",
            "torch.Size([256, 15566]) torch.Size([15566, 20])\n",
            "torch.Size([256, 15566]) torch.Size([15566, 20])\n",
            "torch.Size([256, 15566]) torch.Size([15566, 20])\n",
            "torch.Size([256, 15566]) torch.Size([15566, 20])\n",
            "torch.Size([256, 15566]) torch.Size([15566, 20])\n",
            "torch.Size([91, 15566]) torch.Size([15566, 20])\n",
            "\n",
            "torch.Size([256, 15566]) torch.Size([15566, 20])\n",
            "torch.Size([256, 15566]) torch.Size([15566, 20])\n",
            "torch.Size([256, 15566]) torch.Size([15566, 20])\n",
            "torch.Size([256, 15566]) torch.Size([15566, 20])\n",
            "torch.Size([256, 15566]) torch.Size([15566, 20])\n",
            "torch.Size([256, 15566]) torch.Size([15566, 20])\n",
            "torch.Size([256, 15566]) torch.Size([15566, 20])\n",
            "torch.Size([256, 15566]) torch.Size([15566, 20])\n",
            "torch.Size([215, 15566]) torch.Size([15566, 20])\n",
            "train loss: 3.255 valid loss:3.035\n"
          ],
          "name": "stdout"
        },
        {
          "output_type": "display_data",
          "data": {
            "application/vnd.jupyter.widget-view+json": {
              "model_id": "400cf100e6a44606b971e2c9d9c4520e",
              "version_minor": 0,
              "version_major": 2
            },
            "text/plain": [
              "HBox(children=(IntProgress(value=0, description='epoch:1', max=36, style=ProgressStyle(description_width='init…"
            ]
          },
          "metadata": {
            "tags": []
          }
        },
        {
          "output_type": "stream",
          "text": [
            "torch.Size([256, 15566]) torch.Size([15566, 20])\n",
            "torch.Size([256, 15566]) torch.Size([15566, 20])\n",
            "torch.Size([256, 15566]) torch.Size([15566, 20])\n",
            "torch.Size([256, 15566]) torch.Size([15566, 20])\n",
            "torch.Size([256, 15566]) torch.Size([15566, 20])\n",
            "torch.Size([256, 15566]) torch.Size([15566, 20])\n",
            "torch.Size([256, 15566]) torch.Size([15566, 20])\n",
            "torch.Size([256, 15566]) torch.Size([15566, 20])\n",
            "torch.Size([256, 15566]) torch.Size([15566, 20])\n",
            "torch.Size([256, 15566]) torch.Size([15566, 20])\n",
            "torch.Size([256, 15566]) torch.Size([15566, 20])\n",
            "torch.Size([256, 15566]) torch.Size([15566, 20])\n",
            "torch.Size([256, 15566]) torch.Size([15566, 20])\n",
            "torch.Size([256, 15566]) torch.Size([15566, 20])\n",
            "torch.Size([256, 15566]) torch.Size([15566, 20])\n",
            "torch.Size([256, 15566]) torch.Size([15566, 20])\n",
            "torch.Size([256, 15566]) torch.Size([15566, 20])\n",
            "torch.Size([256, 15566]) torch.Size([15566, 20])\n",
            "torch.Size([256, 15566]) torch.Size([15566, 20])\n",
            "torch.Size([256, 15566]) torch.Size([15566, 20])\n",
            "torch.Size([256, 15566]) torch.Size([15566, 20])\n",
            "torch.Size([256, 15566]) torch.Size([15566, 20])\n",
            "torch.Size([256, 15566]) torch.Size([15566, 20])\n",
            "torch.Size([256, 15566]) torch.Size([15566, 20])\n",
            "torch.Size([256, 15566]) torch.Size([15566, 20])\n",
            "torch.Size([256, 15566]) torch.Size([15566, 20])\n",
            "torch.Size([256, 15566]) torch.Size([15566, 20])\n",
            "torch.Size([256, 15566]) torch.Size([15566, 20])\n",
            "torch.Size([256, 15566]) torch.Size([15566, 20])\n",
            "torch.Size([256, 15566]) torch.Size([15566, 20])\n",
            "torch.Size([256, 15566]) torch.Size([15566, 20])\n",
            "torch.Size([256, 15566]) torch.Size([15566, 20])\n",
            "torch.Size([256, 15566]) torch.Size([15566, 20])\n",
            "torch.Size([256, 15566]) torch.Size([15566, 20])\n",
            "torch.Size([256, 15566]) torch.Size([15566, 20])\n",
            "torch.Size([91, 15566]) torch.Size([15566, 20])\n",
            "\n",
            "torch.Size([256, 15566]) torch.Size([15566, 20])\n",
            "torch.Size([256, 15566]) torch.Size([15566, 20])\n",
            "torch.Size([256, 15566]) torch.Size([15566, 20])\n",
            "torch.Size([256, 15566]) torch.Size([15566, 20])\n",
            "torch.Size([256, 15566]) torch.Size([15566, 20])\n",
            "torch.Size([256, 15566]) torch.Size([15566, 20])\n",
            "torch.Size([256, 15566]) torch.Size([15566, 20])\n",
            "torch.Size([256, 15566]) torch.Size([15566, 20])\n",
            "torch.Size([215, 15566]) torch.Size([15566, 20])\n",
            "train loss: 2.827 valid loss:2.676\n"
          ],
          "name": "stdout"
        }
      ]
    },
    {
      "cell_type": "code",
      "metadata": {
        "id": "cTERcNJS9P4N",
        "colab_type": "code",
        "outputId": "176771ee-5cc7-4510-c07e-57da2dd2ab3f",
        "colab": {
          "base_uri": "https://localhost:8080/",
          "height": 297
        }
      },
      "source": [
        "plt.plot(np.arange(len(history['train'])), history['train'], label='train')\n",
        "plt.plot(np.arange(len(history['valid'])), history['valid'], label='valid')\n",
        "plt.xlabel('epochs')\n",
        "plt.ylabel('loss')\n",
        "plt.legend()"
      ],
      "execution_count": 0,
      "outputs": [
        {
          "output_type": "execute_result",
          "data": {
            "text/plain": [
              "<matplotlib.legend.Legend at 0x7f46f0bea898>"
            ]
          },
          "metadata": {
            "tags": []
          },
          "execution_count": 46
        },
        {
          "output_type": "display_data",
          "data": {
            "image/png": "[encoded data removed]",
            "text/plain": [
              "<Figure size 432x288 with 1 Axes>"
            ]
          },
          "metadata": {
            "tags": []
          }
        }
      ]
    },
    {
      "cell_type": "code",
      "metadata": {
        "id": "PJOHHwV09P4Z",
        "colab_type": "code",
        "outputId": "41642fef-3337-412f-e77d-8e5472b88391",
        "colab": {}
      },
      "source": [
        "y_pred = predict(model, test_loader)\n",
        "metrics.accuracy_score(y_test, y_pred)"
      ],
      "execution_count": 0,
      "outputs": [
        {
          "output_type": "stream",
          "text": [
            "/Users/denaas/opt/anaconda3/lib/python3.7/site-packages/ipykernel_launcher.py:84: UserWarning: Implicit dimension choice for softmax has been deprecated. Change the call to include dim=X as an argument.\n"
          ],
          "name": "stderr"
        },
        {
          "output_type": "execute_result",
          "data": {
            "text/plain": [
              "0.7947424322889007"
            ]
          },
          "metadata": {
            "tags": []
          },
          "execution_count": 9
        }
      ]
    },
    {
      "cell_type": "markdown",
      "metadata": {
        "id": "Oi6ZnwoO9P4h",
        "colab_type": "text"
      },
      "source": [
        "### What is the cross-entropy loss of uniformly random guessing classifier for this task? [0.5 point]"
      ]
    },
    {
      "cell_type": "code",
      "metadata": {
        "id": "sacb4Ulc9P4j",
        "colab_type": "code",
        "colab": {}
      },
      "source": [
        ""
      ],
      "execution_count": 0,
      "outputs": []
    },
    {
      "cell_type": "markdown",
      "metadata": {
        "id": "-_996LYp9P4w",
        "colab_type": "text"
      },
      "source": [
        "### What is the accuracy of constant prediction classifier for this task? [0.5 point]"
      ]
    },
    {
      "cell_type": "code",
      "metadata": {
        "id": "NBwMviut9P4z",
        "colab_type": "code",
        "colab": {}
      },
      "source": [
        ""
      ],
      "execution_count": 0,
      "outputs": []
    }
  ]
}